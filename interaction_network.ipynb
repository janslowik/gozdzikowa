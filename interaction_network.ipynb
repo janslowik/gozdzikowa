{
 "cells": [
  {
   "cell_type": "code",
   "execution_count": null,
   "metadata": {},
   "outputs": [],
   "source": [
    "import pandas as pd\n",
    "import math\n",
    "import networkx\n",
    "import matplotlib.pyplot as plt\n",
    "import requests"
   ]
  },
  {
   "cell_type": "code",
   "execution_count": null,
   "metadata": {},
   "outputs": [],
   "source": [
    "def get_interaction_network(species):\n",
    "    string_api_url = \"https://version-11-5.string-db.org/api\"\n",
    "    output_format = \"tsv-no-header\"\n",
    "    method='network'\n",
    "    \n",
    "    genes = pd.read_csv(f'data/{species}.tsv', sep='\\t')['Gene names  (primary )'].tolist()\n",
    "    # some genes are empty (rendered as proper float nan's, filter out)\n",
    "    \n",
    "    genes = list(filter(lambda x: type(x) != float, genes ))\n",
    "    \n",
    "    request_url = \"/\".join([string_api_url, output_format, method])\n",
    "\n",
    "    params = {\n",
    "\n",
    "        \"identifiers\" : \"%0d\".join(genes),\n",
    "        \"species\" : species, \n",
    "        \"limit\" : 20,\n",
    "        \"required_score\": 100,\n",
    "\n",
    "    }\n",
    "\n",
    "    response = requests.post(request_url, data=params)\n",
    "    \n",
    "    interactions = []\n",
    "    \n",
    "    \n",
    "    for line in response.text.strip().split(\"\\n\"):\n",
    "\n",
    "        l = line.strip().split(\"\\t\")\n",
    "        query_ensp = l[0]\n",
    "        query_name = l[2]\n",
    "        partner_ensp = l[1]\n",
    "        partner_name = l[3]\n",
    "        combined_score = l[5]\n",
    "        \n",
    "        interactions.append([query_ensp, query_name,partner_ensp, partner_name, combined_score ])\n",
    "    int_df = pd.DataFrame(interactions, columns=['query_ensp', 'query_name', 'partner_ensp', 'partner_name', 'combined_score'])    \n",
    "    return genes, int_df"
   ]
  },
  {
   "cell_type": "code",
   "execution_count": null,
   "metadata": {},
   "outputs": [],
   "source": [
    "def draw_with_resistance_map(resistance_genes, G):\n",
    "    color_map = []\n",
    "    for node in G:\n",
    "        if node in resistance_genes:\n",
    "            color_map.append('red')\n",
    "        else: \n",
    "            color_map.append('blue')\n",
    "    fig = plt.figure(1, figsize=(12, 8), dpi=300)\n",
    "    networkx.draw(G, with_labels=True, node_size=1000, node_color=color_map)"
   ]
  },
  {
   "cell_type": "markdown",
   "metadata": {},
   "source": [
    "# Gram-positive"
   ]
  },
  {
   "cell_type": "markdown",
   "metadata": {},
   "source": [
    "### Staphylococcus aureus (strain NCTC 8325 / PS 47)"
   ]
  },
  {
   "cell_type": "code",
   "execution_count": null,
   "metadata": {},
   "outputs": [],
   "source": [
    "genes, df = get_interaction_network(93061)\n",
    "# dfw\n",
    "G = networkx.from_pandas_edgelist(df, 'query_name', 'partner_name', edge_attr=True)\n",
    "\n",
    "draw_with_resistance_map(genes, G)"
   ]
  },
  {
   "cell_type": "markdown",
   "metadata": {},
   "source": [
    "# Gram negative"
   ]
  },
  {
   "cell_type": "markdown",
   "metadata": {},
   "source": [
    " "
   ]
  },
  {
   "cell_type": "code",
   "execution_count": null,
   "metadata": {},
   "outputs": [],
   "source": [
    "genes, df = get_interaction_network(272634 )\n",
    "# dfw\n",
    "G = networkx.from_pandas_edgelist(df, 'query_name', 'partner_name', edge_attr=True)\n",
    "\n",
    "draw_with_resistance_map(genes, G)"
   ]
  },
  {
   "cell_type": "code",
   "execution_count": null,
   "metadata": {},
   "outputs": [],
   "source": [
    "genes, df = get_interaction_network(43263 )\n",
    "# dfw\n",
    "G = networkx.from_pandas_edgelist(df, 'query_name', 'partner_name', edge_attr=True)\n",
    "\n",
    "draw_with_resistance_map(genes, G)"
   ]
  }
 ],
 "metadata": {
  "kernelspec": {
   "display_name": "Python 3",
   "language": "python",
   "name": "python3"
  },
  "language_info": {
   "codemirror_mode": {
    "name": "ipython",
    "version": 3
   },
   "file_extension": ".py",
   "mimetype": "text/x-python",
   "name": "python",
   "nbconvert_exporter": "python",
   "pygments_lexer": "ipython3",
   "version": "3.8.3"
  }
 },
 "nbformat": 4,
 "nbformat_minor": 4
}
