{
 "cells": [
  {
   "cell_type": "markdown",
   "metadata": {},
   "source": [
    "# skrypt do pobierania danych jako tsv z bazy uniprota"
   ]
  },
  {
   "cell_type": "code",
   "execution_count": 37,
   "metadata": {},
   "outputs": [],
   "source": [
    "QUERY = '\"antibiotic resistance\" taxonomy:\"Escherichia coli [562]\"'\n",
    "FIELDS = [\n",
    "    \"id\",\n",
    "    \"entry name\",\n",
    "    \"protein names\",\n",
    "    \"genes(PREFERRED)\",\n",
    "    \"reviewed\"\n",
    "]\n",
    "UNIPROT_URL = \"https://www.uniprot.org/uniprot/\"\n",
    "OUTPUT_FILE = \"uniprot_data.tsv\""
   ]
  },
  {
   "cell_type": "code",
   "execution_count": 38,
   "metadata": {},
   "outputs": [],
   "source": [
    "_fields = \",\".join(FIELDS)\n",
    "_url= (\n",
    "    f\"{UNIPROT_URL}\"\n",
    "    f\"?query={QUERY}\"\n",
    "    f\"&format=tab\"\n",
    "    f\"&columns={_fields}\"\n",
    ")\n",
    "_file = f\"./data/{OUTPUT_FILE}\""
   ]
  },
  {
   "cell_type": "code",
   "execution_count": 30,
   "metadata": {},
   "outputs": [],
   "source": [
    "import requests\n",
    "\n",
    "def download_file(url, filename=None):\n",
    "    with requests.get(url, stream=True) as r:\n",
    "        r.raise_for_status()\n",
    "        with open(filename, 'wb') as f:\n",
    "            for chunk in r.iter_content(chunk_size=8192): \n",
    "                f.write(chunk)"
   ]
  },
  {
   "cell_type": "code",
   "execution_count": 31,
   "metadata": {},
   "outputs": [],
   "source": [
    "download_file(_url, _file)"
   ]
  },
  {
   "cell_type": "code",
   "execution_count": 39,
   "metadata": {},
   "outputs": [
    {
     "data": {
      "text/html": [
       "<div>\n",
       "<style scoped>\n",
       "    .dataframe tbody tr th:only-of-type {\n",
       "        vertical-align: middle;\n",
       "    }\n",
       "\n",
       "    .dataframe tbody tr th {\n",
       "        vertical-align: top;\n",
       "    }\n",
       "\n",
       "    .dataframe thead th {\n",
       "        text-align: right;\n",
       "    }\n",
       "</style>\n",
       "<table border=\"1\" class=\"dataframe\">\n",
       "  <thead>\n",
       "    <tr style=\"text-align: right;\">\n",
       "      <th></th>\n",
       "      <th>Entry</th>\n",
       "      <th>Entry name</th>\n",
       "      <th>Protein names</th>\n",
       "      <th>Gene names  (primary )</th>\n",
       "      <th>Status</th>\n",
       "    </tr>\n",
       "  </thead>\n",
       "  <tbody>\n",
       "    <tr>\n",
       "      <th>0</th>\n",
       "      <td>P0A9U4</td>\n",
       "      <td>YBIT_ECOL6</td>\n",
       "      <td>Probable ATP-binding protein YbiT</td>\n",
       "      <td>ybiT</td>\n",
       "      <td>reviewed</td>\n",
       "    </tr>\n",
       "    <tr>\n",
       "      <th>1</th>\n",
       "      <td>A0A0H2VBH0</td>\n",
       "      <td>YHES_ECOL6</td>\n",
       "      <td>Probable ATP-binding protein YheS</td>\n",
       "      <td>yheS</td>\n",
       "      <td>reviewed</td>\n",
       "    </tr>\n",
       "    <tr>\n",
       "      <th>2</th>\n",
       "      <td>P33941</td>\n",
       "      <td>YOJI_ECOLI</td>\n",
       "      <td>ABC transporter ATP-binding/permease protein YojI</td>\n",
       "      <td>yojI</td>\n",
       "      <td>reviewed</td>\n",
       "    </tr>\n",
       "    <tr>\n",
       "      <th>3</th>\n",
       "      <td>Q0TD49</td>\n",
       "      <td>UPPP_ECOL5</td>\n",
       "      <td>Undecaprenyl-diphosphatase (EC 3.6.1.27) (Baci...</td>\n",
       "      <td>uppP</td>\n",
       "      <td>reviewed</td>\n",
       "    </tr>\n",
       "    <tr>\n",
       "      <th>4</th>\n",
       "      <td>P0A8V2</td>\n",
       "      <td>RPOB_ECOLI</td>\n",
       "      <td>DNA-directed RNA polymerase subunit beta (RNAP...</td>\n",
       "      <td>rpoB</td>\n",
       "      <td>reviewed</td>\n",
       "    </tr>\n",
       "  </tbody>\n",
       "</table>\n",
       "</div>"
      ],
      "text/plain": [
       "        Entry  Entry name                                      Protein names  \\\n",
       "0      P0A9U4  YBIT_ECOL6                  Probable ATP-binding protein YbiT   \n",
       "1  A0A0H2VBH0  YHES_ECOL6                  Probable ATP-binding protein YheS   \n",
       "2      P33941  YOJI_ECOLI  ABC transporter ATP-binding/permease protein YojI   \n",
       "3      Q0TD49  UPPP_ECOL5  Undecaprenyl-diphosphatase (EC 3.6.1.27) (Baci...   \n",
       "4      P0A8V2  RPOB_ECOLI  DNA-directed RNA polymerase subunit beta (RNAP...   \n",
       "\n",
       "  Gene names  (primary )    Status  \n",
       "0                   ybiT  reviewed  \n",
       "1                   yheS  reviewed  \n",
       "2                   yojI  reviewed  \n",
       "3                   uppP  reviewed  \n",
       "4                   rpoB  reviewed  "
      ]
     },
     "execution_count": 39,
     "metadata": {},
     "output_type": "execute_result"
    }
   ],
   "source": [
    "import pandas as pd\n",
    "\n",
    "df = pd.read_csv(_file, sep='\\t')\n",
    "df.head()"
   ]
  }
 ],
 "metadata": {
  "interpreter": {
   "hash": "d6d27ed26e168227bf60e6661ce0dbd09d5c0106c15923c200cc953d4b68d082"
  },
  "kernelspec": {
   "display_name": "Python 3.8.12 64-bit ('gozdzikowa': pyenv)",
   "language": "python",
   "name": "python3"
  },
  "language_info": {
   "codemirror_mode": {
    "name": "ipython",
    "version": 3
   },
   "file_extension": ".py",
   "mimetype": "text/x-python",
   "name": "python",
   "nbconvert_exporter": "python",
   "pygments_lexer": "ipython3",
   "version": "3.8.12"
  },
  "orig_nbformat": 4
 },
 "nbformat": 4,
 "nbformat_minor": 2
}
