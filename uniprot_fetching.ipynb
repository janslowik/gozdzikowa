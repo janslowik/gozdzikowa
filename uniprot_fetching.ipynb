{
 "cells": [
  {
   "cell_type": "markdown",
   "metadata": {},
   "source": [
    "# skrypt do pobierania danych jako tsv z bazy uniprota"
   ]
  },
  {
   "cell_type": "code",
   "execution_count": 1,
   "metadata": {},
   "outputs": [],
   "source": [
    "# QUERY = '\"antibiotic resistance\" taxonomy:\"[562]\"'\n",
    "FIELDS = [\n",
    "    \"id\",\n",
    "    \"entry name\",\n",
    "    \"protein names\",\n",
    "    \"genes(PREFERRED)\",\n",
    "    \"reviewed\"\n",
    "]\n",
    "UNIPROT_URL = \"https://www.uniprot.org/uniprot/\"\n",
    "OUTPUT_FILE = \"uniprot_data.tsv\""
   ]
  },
  {
   "cell_type": "code",
   "execution_count": 7,
   "metadata": {},
   "outputs": [],
   "source": [
    "_fields = \",\".join(FIELDS)\n",
    "# _url= (\n",
    "#     f\"{UNIPROT_URL}\"\n",
    "#     f\"?query={QUERY}\"\n",
    "#     f\"&format=tab\"\n",
    "#     f\"&columns={_fields}\"\n",
    "# )\n",
    "# _file = f\"./data/{OUTPUT_FILE}\""
   ]
  },
  {
   "cell_type": "code",
   "execution_count": 8,
   "metadata": {},
   "outputs": [],
   "source": [
    "import requests\n",
    "\n",
    "def download_file(url, filename=None):\n",
    "    with requests.get(url, stream=True) as r:\n",
    "        r.raise_for_status()\n",
    "        with open(filename, 'wb') as f:\n",
    "            for chunk in r.iter_content(chunk_size=8192): \n",
    "                f.write(chunk)"
   ]
  },
  {
   "cell_type": "code",
   "execution_count": 9,
   "metadata": {},
   "outputs": [],
   "source": [
    "def download_antibiotics_resistance_by_taxonomy(taxonomy_id, folder_path=\"./data\"):\n",
    "    \"\"\"\n",
    "    Download data from Uniprot for a given taxonomy id.\n",
    "    \"\"\"\n",
    "    _query = f'\"antibiotic resistance\" taxonomy:\"[{taxonomy_id}]\"'\n",
    "    _url = (\n",
    "        f\"{UNIPROT_URL}\"\n",
    "        f\"?query={_query}\"\n",
    "        f\"&format=tab\"\n",
    "        f\"&columns={_fields}\"\n",
    "    )\n",
    "    \n",
    "    _tax_id = str(taxonomy_id).replace(' ', '_')\n",
    "    _file = f\"{folder_path}/{_tax_id}.tsv\"\n",
    "    download_file(_url, _file)"
   ]
  },
  {
   "cell_type": "code",
   "execution_count": 10,
   "metadata": {},
   "outputs": [],
   "source": [
    "download_antibiotics_resistance_by_taxonomy('Mycoplasma pneumoniae M129')"
   ]
  },
  {
   "cell_type": "code",
   "execution_count": 13,
   "metadata": {},
   "outputs": [],
   "source": [
    "download_antibiotics_resistance_by_taxonomy(226185)"
   ]
  },
  {
   "cell_type": "code",
   "execution_count": 14,
   "metadata": {},
   "outputs": [
    {
     "data": {
      "text/html": [
       "<div>\n",
       "<style scoped>\n",
       "    .dataframe tbody tr th:only-of-type {\n",
       "        vertical-align: middle;\n",
       "    }\n",
       "\n",
       "    .dataframe tbody tr th {\n",
       "        vertical-align: top;\n",
       "    }\n",
       "\n",
       "    .dataframe thead th {\n",
       "        text-align: right;\n",
       "    }\n",
       "</style>\n",
       "<table border=\"1\" class=\"dataframe\">\n",
       "  <thead>\n",
       "    <tr style=\"text-align: right;\">\n",
       "      <th></th>\n",
       "      <th>Entry</th>\n",
       "      <th>Entry name</th>\n",
       "      <th>Protein names</th>\n",
       "      <th>Gene names  (primary )</th>\n",
       "      <th>Status</th>\n",
       "    </tr>\n",
       "  </thead>\n",
       "  <tbody>\n",
       "    <tr>\n",
       "      <th>0</th>\n",
       "      <td>Q06893</td>\n",
       "      <td>VANB_ENTFA</td>\n",
       "      <td>Vancomycin B-type resistance protein VanB (EC ...</td>\n",
       "      <td>vanB</td>\n",
       "      <td>reviewed</td>\n",
       "    </tr>\n",
       "    <tr>\n",
       "      <th>1</th>\n",
       "      <td>Q47744</td>\n",
       "      <td>VANR_ENTFA</td>\n",
       "      <td>Regulatory protein VanRB</td>\n",
       "      <td>vanRB</td>\n",
       "      <td>reviewed</td>\n",
       "    </tr>\n",
       "    <tr>\n",
       "      <th>2</th>\n",
       "      <td>Q47745</td>\n",
       "      <td>VANS_ENTFA</td>\n",
       "      <td>Sensor protein VanSB (EC 2.7.13.3) (Vancomycin...</td>\n",
       "      <td>vanSB</td>\n",
       "      <td>reviewed</td>\n",
       "    </tr>\n",
       "    <tr>\n",
       "      <th>3</th>\n",
       "      <td>Q47746</td>\n",
       "      <td>VANY_ENTFA</td>\n",
       "      <td>D-alanyl-D-alanine carboxypeptidase (D,D-carbo...</td>\n",
       "      <td>vanYB</td>\n",
       "      <td>reviewed</td>\n",
       "    </tr>\n",
       "    <tr>\n",
       "      <th>4</th>\n",
       "      <td>Q831R1</td>\n",
       "      <td>UPPP1_ENTFA</td>\n",
       "      <td>Undecaprenyl-diphosphatase (EC 3.6.1.27) (Baci...</td>\n",
       "      <td>uppP</td>\n",
       "      <td>reviewed</td>\n",
       "    </tr>\n",
       "  </tbody>\n",
       "</table>\n",
       "</div>"
      ],
      "text/plain": [
       "    Entry   Entry name                                      Protein names  \\\n",
       "0  Q06893   VANB_ENTFA  Vancomycin B-type resistance protein VanB (EC ...   \n",
       "1  Q47744   VANR_ENTFA                           Regulatory protein VanRB   \n",
       "2  Q47745   VANS_ENTFA  Sensor protein VanSB (EC 2.7.13.3) (Vancomycin...   \n",
       "3  Q47746   VANY_ENTFA  D-alanyl-D-alanine carboxypeptidase (D,D-carbo...   \n",
       "4  Q831R1  UPPP1_ENTFA  Undecaprenyl-diphosphatase (EC 3.6.1.27) (Baci...   \n",
       "\n",
       "  Gene names  (primary )    Status  \n",
       "0                   vanB  reviewed  \n",
       "1                  vanRB  reviewed  \n",
       "2                  vanSB  reviewed  \n",
       "3                  vanYB  reviewed  \n",
       "4                   uppP  reviewed  "
      ]
     },
     "execution_count": 14,
     "metadata": {},
     "output_type": "execute_result"
    }
   ],
   "source": [
    "import pandas as pd\n",
    "\n",
    "df = pd.read_csv('./data/226185.tsv', sep='\\t')\n",
    "df.head()"
   ]
  },
  {
   "cell_type": "code",
   "execution_count": null,
   "metadata": {},
   "outputs": [],
   "source": [
    "taxon_df = pd.read_csv('./data/taxonomy-ancestor_562.tab', sep='\\t')"
   ]
  },
  {
   "cell_type": "code",
   "execution_count": 9,
   "metadata": {},
   "outputs": [
    {
     "data": {
      "text/html": [
       "<div>\n",
       "<style scoped>\n",
       "    .dataframe tbody tr th:only-of-type {\n",
       "        vertical-align: middle;\n",
       "    }\n",
       "\n",
       "    .dataframe tbody tr th {\n",
       "        vertical-align: top;\n",
       "    }\n",
       "\n",
       "    .dataframe thead th {\n",
       "        text-align: right;\n",
       "    }\n",
       "</style>\n",
       "<table border=\"1\" class=\"dataframe\">\n",
       "  <thead>\n",
       "    <tr style=\"text-align: right;\">\n",
       "      <th></th>\n",
       "      <th>Taxon</th>\n",
       "      <th>Mnemonic</th>\n",
       "      <th>Scientific name</th>\n",
       "      <th>Common name</th>\n",
       "      <th>Synonym</th>\n",
       "      <th>Other Names</th>\n",
       "      <th>Reviewed</th>\n",
       "      <th>Rank</th>\n",
       "      <th>Lineage</th>\n",
       "      <th>Parent</th>\n",
       "      <th>Virus hosts</th>\n",
       "    </tr>\n",
       "  </thead>\n",
       "  <tbody>\n",
       "    <tr>\n",
       "      <th>0</th>\n",
       "      <td>1005443</td>\n",
       "      <td>NaN</td>\n",
       "      <td>Escherichia coli 0.1197</td>\n",
       "      <td>NaN</td>\n",
       "      <td>NaN</td>\n",
       "      <td>NaN</td>\n",
       "      <td>NaN</td>\n",
       "      <td>NaN</td>\n",
       "      <td>Bacteria; Proteobacteria; Gammaproteobacteria;...</td>\n",
       "      <td>562</td>\n",
       "      <td>NaN</td>\n",
       "    </tr>\n",
       "    <tr>\n",
       "      <th>1</th>\n",
       "      <td>1005442</td>\n",
       "      <td>NaN</td>\n",
       "      <td>Escherichia coli 0.1288</td>\n",
       "      <td>NaN</td>\n",
       "      <td>NaN</td>\n",
       "      <td>NaN</td>\n",
       "      <td>annotated</td>\n",
       "      <td>NaN</td>\n",
       "      <td>Bacteria; Proteobacteria; Gammaproteobacteria;...</td>\n",
       "      <td>562</td>\n",
       "      <td>NaN</td>\n",
       "    </tr>\n",
       "    <tr>\n",
       "      <th>2</th>\n",
       "      <td>1005441</td>\n",
       "      <td>NaN</td>\n",
       "      <td>Escherichia coli 0.1304</td>\n",
       "      <td>NaN</td>\n",
       "      <td>NaN</td>\n",
       "      <td>NaN</td>\n",
       "      <td>annotated</td>\n",
       "      <td>NaN</td>\n",
       "      <td>Bacteria; Proteobacteria; Gammaproteobacteria;...</td>\n",
       "      <td>562</td>\n",
       "      <td>NaN</td>\n",
       "    </tr>\n",
       "    <tr>\n",
       "      <th>3</th>\n",
       "      <td>1005566</td>\n",
       "      <td>NaN</td>\n",
       "      <td>Escherichia coli 07798</td>\n",
       "      <td>NaN</td>\n",
       "      <td>NaN</td>\n",
       "      <td>NaN</td>\n",
       "      <td>NaN</td>\n",
       "      <td>NaN</td>\n",
       "      <td>Bacteria; Proteobacteria; Gammaproteobacteria;...</td>\n",
       "      <td>562</td>\n",
       "      <td>NaN</td>\n",
       "    </tr>\n",
       "    <tr>\n",
       "      <th>4</th>\n",
       "      <td>1081888</td>\n",
       "      <td>NaN</td>\n",
       "      <td>Escherichia coli 08BKT055439</td>\n",
       "      <td>NaN</td>\n",
       "      <td>NaN</td>\n",
       "      <td>Escherichia coli str. 08BKT055439; Escherichia...</td>\n",
       "      <td>NaN</td>\n",
       "      <td>NaN</td>\n",
       "      <td>Bacteria; Proteobacteria; Gammaproteobacteria;...</td>\n",
       "      <td>562</td>\n",
       "      <td>NaN</td>\n",
       "    </tr>\n",
       "  </tbody>\n",
       "</table>\n",
       "</div>"
      ],
      "text/plain": [
       "     Taxon Mnemonic               Scientific name  Common name  Synonym  \\\n",
       "0  1005443      NaN       Escherichia coli 0.1197          NaN      NaN   \n",
       "1  1005442      NaN       Escherichia coli 0.1288          NaN      NaN   \n",
       "2  1005441      NaN       Escherichia coli 0.1304          NaN      NaN   \n",
       "3  1005566      NaN        Escherichia coli 07798          NaN      NaN   \n",
       "4  1081888      NaN  Escherichia coli 08BKT055439          NaN      NaN   \n",
       "\n",
       "                                         Other Names   Reviewed Rank  \\\n",
       "0                                                NaN        NaN  NaN   \n",
       "1                                                NaN  annotated  NaN   \n",
       "2                                                NaN  annotated  NaN   \n",
       "3                                                NaN        NaN  NaN   \n",
       "4  Escherichia coli str. 08BKT055439; Escherichia...        NaN  NaN   \n",
       "\n",
       "                                             Lineage  Parent  Virus hosts  \n",
       "0  Bacteria; Proteobacteria; Gammaproteobacteria;...     562          NaN  \n",
       "1  Bacteria; Proteobacteria; Gammaproteobacteria;...     562          NaN  \n",
       "2  Bacteria; Proteobacteria; Gammaproteobacteria;...     562          NaN  \n",
       "3  Bacteria; Proteobacteria; Gammaproteobacteria;...     562          NaN  \n",
       "4  Bacteria; Proteobacteria; Gammaproteobacteria;...     562          NaN  "
      ]
     },
     "execution_count": 9,
     "metadata": {},
     "output_type": "execute_result"
    }
   ],
   "source": [
    "taxon_df.head()"
   ]
  },
  {
   "cell_type": "code",
   "execution_count": null,
   "metadata": {},
   "outputs": [],
   "source": [
    "download_antibiotics_resistance_by_taxonomy('Mycoplasma pneumoniae M129')"
   ]
  },
  {
   "cell_type": "code",
   "execution_count": 11,
   "metadata": {},
   "outputs": [],
   "source": [
    "import time\n",
    "\n",
    "taxons = taxon_df.Taxon.unique()\n",
    "\n",
    "for t in taxons:\n",
    "    download_antibiotics_resistance_by_taxonomy(t, folder_path=\"./data/562_ancestors\")\n",
    "    time.sleep(5)"
   ]
  },
  {
   "cell_type": "code",
   "execution_count": null,
   "metadata": {},
   "outputs": [],
   "source": []
  }
 ],
 "metadata": {
  "interpreter": {
   "hash": "d6d27ed26e168227bf60e6661ce0dbd09d5c0106c15923c200cc953d4b68d082"
  },
  "kernelspec": {
   "display_name": "Python 3.8.12 64-bit ('gozdzikowa': pyenv)",
   "language": "python",
   "name": "python3"
  },
  "language_info": {
   "codemirror_mode": {
    "name": "ipython",
    "version": 3
   },
   "file_extension": ".py",
   "mimetype": "text/x-python",
   "name": "python",
   "nbconvert_exporter": "python",
   "pygments_lexer": "ipython3",
   "version": "3.8.12"
  },
  "orig_nbformat": 4
 },
 "nbformat": 4,
 "nbformat_minor": 2
}
